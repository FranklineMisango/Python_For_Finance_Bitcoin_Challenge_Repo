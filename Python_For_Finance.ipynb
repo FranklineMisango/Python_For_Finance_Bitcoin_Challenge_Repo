{
  "nbformat": 4,
  "nbformat_minor": 0,
  "metadata": {
    "colab": {
      "name": "Python_For_Finance.ipynb",
      "provenance": [],
      "authorship_tag": "ABX9TyODVEI73S3E10dXCOrfV69r",
      "include_colab_link": true
    },
    "kernelspec": {
      "name": "python3",
      "display_name": "Python 3"
    },
    "language_info": {
      "name": "python"
    }
  },
  "cells": [
    {
      "cell_type": "markdown",
      "metadata": {
        "id": "view-in-github",
        "colab_type": "text"
      },
      "source": [
        "<a href=\"https://colab.research.google.com/github/FranklineMisango/Python_For_Finance_Bitcoin_Challenge_Repo/blob/main/Python_For_Finance.ipynb\" target=\"_parent\"><img src=\"https://colab.research.google.com/assets/colab-badge.svg\" alt=\"Open In Colab\"/></a>"
      ]
    },
    {
      "cell_type": "code",
      "execution_count": null,
      "metadata": {
        "colab": {
          "base_uri": "https://localhost:8080/"
        },
        "id": "uZKTHls0lV6n",
        "outputId": "b2edab11-a4c8-4fda-c203-008a3500a23e"
      },
      "outputs": [
        {
          "output_type": "stream",
          "name": "stdout",
          "text": [
            "Looking in indexes: https://pypi.org/simple, https://us-python.pkg.dev/colab-wheels/public/simple/\n",
            "Collecting numpy-financial\n",
            "  Downloading numpy_financial-1.0.0-py3-none-any.whl (14 kB)\n",
            "Requirement already satisfied: numpy>=1.15 in /usr/local/lib/python3.7/dist-packages (from numpy-financial) (1.21.6)\n",
            "Installing collected packages: numpy-financial\n",
            "Successfully installed numpy-financial-1.0.0\n"
          ]
        }
      ],
      "source": [
        "pip install numpy-financial\n"
      ]
    },
    {
      "cell_type": "code",
      "source": [
        "import numpy_financial as npf\n",
        "import numpy as np"
      ],
      "metadata": {
        "id": "VAeU49uklpf9"
      },
      "execution_count": null,
      "outputs": []
    },
    {
      "cell_type": "code",
      "source": [
        "#price for 2018-2021\n",
        "bitcoin = [3869.47, 7188.46, 22203.31, 29391.78]\n",
        "#First requirement : standard deviation for the bitcoin from 2018 - 2021\n",
        "print(np.std(bitcoin))"
      ],
      "metadata": {
        "colab": {
          "base_uri": "https://localhost:8080/"
        },
        "id": "kKZ3iKnCoRR9",
        "outputId": "474a3cab-fa69-45d6-8441-4f951026170f"
      },
      "execution_count": null,
      "outputs": [
        {
          "output_type": "stream",
          "name": "stdout",
          "text": [
            "10513.803224771947\n"
          ]
        }
      ]
    },
    {
      "cell_type": "markdown",
      "source": [
        "You decide to start a Bitcoin mining business in January of 2017. You make an initial investment of $500K to buy the required mining hardware.\n",
        "Each year the hardware can mine 10 bitcoins, so your first return will come on January 1, 2018.\n",
        "\n",
        "Hint\n",
        "\n",
        "Create an array with the initial investment as the first element (with a negative value), followed by the cost of 10 bitcoins per year -- multiply the values of the given array by 10 and accordingly add them to the list you created, placing them after the investment value.\n"
      ],
      "metadata": {
        "id": "xic0Wu6XveXL"
      }
    },
    {
      "cell_type": "code",
      "source": [
        "# Task : Calculate the return for each year and output the IRR of the project.\n",
        "cashflow = [-500000, bitcoin[0]*10, bitcoin[1]*10, bitcoin[2]*10, bitcoin[3]*10]\n",
        "print(npf.irr(cashflow))\n"
      ],
      "metadata": {
        "colab": {
          "base_uri": "https://localhost:8080/"
        },
        "id": "dnZZnB5fvgCb",
        "outputId": "efe51eb1-f118-46da-dbd6-15568867b061"
      },
      "execution_count": null,
      "outputs": [
        {
          "output_type": "stream",
          "name": "stdout",
          "text": [
            "0.07297215919675315\n"
          ]
        }
      ]
    },
    {
      "cell_type": "markdown",
      "source": [
        "Let's continue with our Bitcoin calculations.\n",
        "You decide to invest $1000 \n",
        "\n",
        "in Bitcoin in 2018, at the price in the declared array: $3869.47.\n",
        "\n",
        "Hint\n",
        "First, calculate how many Bitcoins you will have at the start by dividing your investment by the cost of Bitcoin in the first year (the first element of the given array). Then multiply the entire array of the prices by that number to get the value for each year. Use np.multiply(array, number) to multiply an array with a number.\n"
      ],
      "metadata": {
        "id": "4GIdmHew3kZh"
      }
    },
    {
      "cell_type": "code",
      "source": [
        "# Tasks\n",
        "# Calculate how much your investment is worth at the end of each year using the prices denoted in the code.\n",
        "# Draw a chart to showcase how much your $1000 investment changes in value each year.\n",
        "\n",
        "import matplotlib.pyplot as plt\n",
        "start = 1000 / bitcoin[0]\n",
        "values = np.multiply(bitcoin, start)\n",
        "print(values)\n",
        "years = ['2018', '2019', '2020', '2021']\n",
        "plt.plot(years, values)\n",
        "plt.savefig('plot.png')"
      ],
      "metadata": {
        "id": "5C12auID2rQL",
        "colab": {
          "base_uri": "https://localhost:8080/",
          "height": 282
        },
        "outputId": "fdcdfe58-d908-4271-a0dc-395f812b7339"
      },
      "execution_count": 13,
      "outputs": [
        {
          "output_type": "stream",
          "name": "stdout",
          "text": [
            "[1000.         1857.73762298 5738.07524028 7595.81544759]\n"
          ]
        },
        {
          "output_type": "display_data",
          "data": {
            "text/plain": [
              "<Figure size 432x288 with 1 Axes>"
            ],
            "image/png": "[encoded data removed]"
          },
          "metadata": {
            "needs_background": "light"
          }
        }
      ]
    },
    {
      "cell_type": "code",
      "source": [
        "\n",
        "print(npf.fv(rate=0, nper=3, pmt=0, pv=-100))"
      ],
      "metadata": {
        "colab": {
          "base_uri": "https://localhost:8080/"
        },
        "id": "RyS36-oSC1Ua",
        "outputId": "eb8c1c85-eb6a-4c7c-c4df-ccd5ea3703ab"
      },
      "execution_count": 14,
      "outputs": [
        {
          "output_type": "stream",
          "name": "stdout",
          "text": [
            "100.0\n"
          ]
        },
        {
          "output_type": "stream",
          "name": "stderr",
          "text": [
            "/usr/local/lib/python3.7/dist-packages/numpy_financial/_financial.py:130: RuntimeWarning: invalid value encountered in long_scalars\n",
            "  (1 + rate*when)*(temp - 1)/rate)\n"
          ]
        }
      ]
    }
  ]
}