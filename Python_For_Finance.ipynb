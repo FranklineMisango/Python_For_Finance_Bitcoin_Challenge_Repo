{
  "nbformat": 4,
  "nbformat_minor": 0,
  "metadata": {
    "colab": {
      "name": "Python_For_Finance.ipynb",
      "provenance": [],
      "authorship_tag": "ABX9TyN9toPjf86T7aZi/apR7E2g",
      "include_colab_link": true
    },
    "kernelspec": {
      "name": "python3",
      "display_name": "Python 3"
    },
    "language_info": {
      "name": "python"
    }
  },
  "cells": [
    {
      "cell_type": "markdown",
      "metadata": {
        "id": "view-in-github",
        "colab_type": "text"
      },
      "source": [
        "<a href=\"https://colab.research.google.com/github/FranklineMisango/Python_For_Finance_Bitcoin_Challenge_Repo/blob/main/Python_For_Finance.ipynb\" target=\"_parent\"><img src=\"https://colab.research.google.com/assets/colab-badge.svg\" alt=\"Open In Colab\"/></a>"
      ]
    },
    {
      "cell_type": "code",
      "source": [
        "import math as m\n",
        "import numpy as np\n",
        "import numpy_financial as npf\n",
        "import pandas as pd\n",
        "import yfinance as yf\n",
        "import matplotlib.pyplot as plt\n"
      ],
      "metadata": {
        "id": "dJETiIKVNOjs"
      },
      "execution_count": 15,
      "outputs": []
    },
    {
      "cell_type": "code",
      "source": [
        "#price for 2018-2021\n",
        "bitcoin = [3869.47, 7188.46, 22203.31, 29391.78]\n",
        "#First requirement : standard deviation for the bitcoin from 2018 - 2021\n",
        "print(np.std(bitcoin))"
      ],
      "metadata": {
        "colab": {
          "base_uri": "https://localhost:8080/"
        },
        "id": "kKZ3iKnCoRR9",
        "outputId": "05af6fbb-fa01-4b5c-d9d7-83ce18585086"
      },
      "execution_count": 16,
      "outputs": [
        {
          "output_type": "stream",
          "name": "stdout",
          "text": [
            "10513.803224771947\n"
          ]
        }
      ]
    },
    {
      "cell_type": "markdown",
      "source": [
        "You decide to start a Bitcoin mining business in January of 2017. You make an initial investment of $500K to buy the required mining hardware.\n",
        "Each year the hardware can mine 10 bitcoins, so your first return will come on January 1, 2018.\n",
        "\n",
        "Hint\n",
        "\n",
        "Create an array with the initial investment as the first element (with a negative value), followed by the cost of 10 bitcoins per year -- multiply the values of the given array by 10 and accordingly add them to the list you created, placing them after the investment value.\n"
      ],
      "metadata": {
        "id": "xic0Wu6XveXL"
      }
    },
    {
      "cell_type": "code",
      "source": [
        "# Task : Calculate the return for each year and output the IRR of the project.\n",
        "cashflow = [-500000, bitcoin[0]*10, bitcoin[1]*10, bitcoin[2]*10, bitcoin[3]*10]\n",
        "print(npf.irr(cashflow))\n"
      ],
      "metadata": {
        "colab": {
          "base_uri": "https://localhost:8080/"
        },
        "id": "dnZZnB5fvgCb",
        "outputId": "de68d07a-9e3e-4ed3-fb63-3a64ab7758b8"
      },
      "execution_count": 17,
      "outputs": [
        {
          "output_type": "stream",
          "name": "stdout",
          "text": [
            "0.07297215919675315\n"
          ]
        }
      ]
    },
    {
      "cell_type": "markdown",
      "source": [
        "Let's continue with our Bitcoin calculations.\n",
        "You decide to invest $1000 \n",
        "\n",
        "in Bitcoin in 2018, at the price in the declared array: $3869.47.\n",
        "\n",
        "Hint\n",
        "First, calculate how many Bitcoins you will have at the start by dividing your investment by the cost of Bitcoin in the first year (the first element of the given array). Then multiply the entire array of the prices by that number to get the value for each year. Use np.multiply(array, number) to multiply an array with a number.\n"
      ],
      "metadata": {
        "id": "4GIdmHew3kZh"
      }
    },
    {
      "cell_type": "code",
      "source": [
        "# Tasks\n",
        "# Calculate how much your investment is worth at the end of each year using the prices denoted in the code.\n",
        "# Draw a chart to showcase how much your $1000 investment changes in value each year.\n",
        "\n",
        "import matplotlib.pyplot as plt\n",
        "start = 1000 / bitcoin[0]\n",
        "values = np.multiply(bitcoin, start)\n",
        "print(values)\n",
        "years = ['2018', '2019', '2020', '2021']\n",
        "plt.plot(years, values)\n",
        "plt.savefig('plot.png')"
      ],
      "metadata": {
        "id": "5C12auID2rQL",
        "colab": {
          "base_uri": "https://localhost:8080/",
          "height": 282
        },
        "outputId": "8f1f6482-c498-4380-bf39-3a7aa91802bf"
      },
      "execution_count": 18,
      "outputs": [
        {
          "output_type": "stream",
          "name": "stdout",
          "text": [
            "[1000.         1857.73762298 5738.07524028 7595.81544759]\n"
          ]
        },
        {
          "output_type": "display_data",
          "data": {
            "text/plain": [
              "<Figure size 432x288 with 1 Axes>"
            ],
            "image/png": "[encoded data removed]"
          },
          "metadata": {
            "needs_background": "light"
          }
        }
      ]
    },
    {
      "cell_type": "code",
      "source": [
        "\n",
        "print(npf.fv(rate=0, nper=3, pmt=0, pv=-100))"
      ],
      "metadata": {
        "colab": {
          "base_uri": "https://localhost:8080/"
        },
        "id": "RyS36-oSC1Ua",
        "outputId": "c7d0b86f-33ec-4e21-c727-1b4448db52f4"
      },
      "execution_count": 19,
      "outputs": [
        {
          "output_type": "stream",
          "name": "stdout",
          "text": [
            "100.0\n"
          ]
        },
        {
          "output_type": "stream",
          "name": "stderr",
          "text": [
            "/usr/local/lib/python3.7/dist-packages/numpy_financial/_financial.py:130: RuntimeWarning: invalid value encountered in long_scalars\n",
            "  (1 + rate*when)*(temp - 1)/rate)\n"
          ]
        }
      ]
    },
    {
      "cell_type": "markdown",
      "source": [
        "Time to get some real data!\n",
        "The Bitcoin price can be found on Yahoo Finance using the ticker 'BTC-USD'.\n",
        "\n",
        "\n",
        "Hint\n",
        "Replace your code and set it up for the data you get from Yahoo Finance -- you don't need to work with the initial array you were given at the start of the project.\n",
        "Here is an example of how you should get your data as an array:"
      ],
      "metadata": {
        "id": "PuQBaKqRH2iI"
      }
    },
    {
      "cell_type": "markdown",
      "source": [
        "import yfinance as yf"
      ],
      "metadata": {
        "id": "sI5tMTEtHyFg"
      }
    },
    {
      "cell_type": "code",
      "source": [
        "data = yf.Ticker('BTC-USD')\n",
        "x = data.history('1y')['Close']\n",
        "print(x)\n",
        "plt.plot(x)\n",
        "plt.savefig('plot.png')"
      ],
      "metadata": {
        "colab": {
          "base_uri": "https://localhost:8080/",
          "height": 491
        },
        "id": "SC3GTex5H1kB",
        "outputId": "c48acfde-f9d7-4095-e855-77e603e438ce"
      },
      "execution_count": 14,
      "outputs": [
        {
          "output_type": "stream",
          "name": "stdout",
          "text": [
            "Date\n",
            "2021-07-31    41626.195312\n",
            "2021-08-01    39974.894531\n",
            "2021-08-02    39201.945312\n",
            "2021-08-03    38152.980469\n",
            "2021-08-04    39747.503906\n",
            "                  ...     \n",
            "2022-07-27    22930.548828\n",
            "2022-07-28    23843.886719\n",
            "2022-07-29    23804.632812\n",
            "2022-07-30    23656.207031\n",
            "2022-07-31    23797.673828\n",
            "Name: Close, Length: 366, dtype: float64\n"
          ]
        },
        {
          "output_type": "display_data",
          "data": {
            "text/plain": [
              "<Figure size 432x288 with 1 Axes>"
            ],
            "image/png": "[encoded data removed]"
          },
          "metadata": {
            "needs_background": "light"
          }
        }
      ]
    },
    {
      "cell_type": "markdown",
      "source": [
        "Time to calculate important Bitcoin metrics!"
      ],
      "metadata": {
        "id": "hilZKgeTKlIj"
      }
    },
    {
      "cell_type": "code",
      "source": [
        "#1. Calculate the volatility of Bitcoin and output the risk %.\n",
        "#2. Calculate and output the Sharpe ratio.\n",
        "\n",
        "data = yf.Ticker('BTC-USD')\n",
        "x = data.history('1y')['Close']\n",
        "\n",
        "#Daily returns\n",
        "d = yf.download('BTC-USD',start = '2022-01-01')\n",
        "#Percentage change\n",
        "pc = d['Close'].pct_change()\n",
        "#Volatility\n",
        "annual = np.std(pc)*np.sqrt(252)*100\n",
        "print(\"Risk: \",annual)\n",
        "sharpe = (np.mean(pc)/np.std(pc))*np.sqrt(252)\n",
        "print(\"Sharpe: \",sharpe)\n",
        "\n",
        "num_of_btc = 1000/x[0]\n",
        "btc = np.multiply(x,num_of_btc)\n",
        "plt.plot(btc)\n",
        "plt.savefig('plot.png')"
      ],
      "metadata": {
        "colab": {
          "base_uri": "https://localhost:8080/",
          "height": 317
        },
        "id": "dvz62XwgKobq",
        "outputId": "edf8b17f-a018-4f6f-fd29-16833c16320e"
      },
      "execution_count": 24,
      "outputs": [
        {
          "output_type": "stream",
          "name": "stdout",
          "text": [
            "\r[*********************100%***********************]  1 of 1 completed\n",
            "Risk:  57.8634965901907\n",
            "Sharpe:  -1.1424583860239668\n"
          ]
        },
        {
          "output_type": "display_data",
          "data": {
            "text/plain": [
              "<Figure size 432x288 with 1 Axes>"
            ],
            "image/png": "[encoded data removed]"
          },
          "metadata": {
            "needs_background": "light"
          }
        }
      ]
    },
    {
      "cell_type": "code",
      "source": [
        ""
      ],
      "metadata": {
        "id": "SLDnACpFL7G6"
      },
      "execution_count": null,
      "outputs": []
    }
  ]
}